{
 "cells": [
  {
   "cell_type": "markdown",
   "id": "af6b148e-0486-4012-87b2-1a570065ecdd",
   "metadata": {},
   "source": [
    "# Data Set\n",
    "https://www.kaggle.com/datasets/aiaiaidavid/the-big-dataset-of-ultra-marathon-running/discussion/420633\n",
    "https://github.com/Neha781/Data-Exploration-Ultra-Marathon-Running-with-Python/blob/main/data%20project-checkpoint.ipynb"
   ]
  },
  {
   "cell_type": "code",
   "execution_count": 1,
   "id": "a006da98-cd88-4cab-ab10-9c6a0cfc473c",
   "metadata": {},
   "outputs": [],
   "source": [
    "# import libraries\n",
    "import pandas as pd\n",
    "import seaborn as sns"
   ]
  },
  {
   "cell_type": "code",
   "execution_count": 2,
   "id": "e8d04f24-b4f0-4c99-ba85-9c9518bed577",
   "metadata": {},
   "outputs": [
    {
     "name": "stderr",
     "output_type": "stream",
     "text": [
      "C:\\Users\\BT\\AppData\\Local\\Temp\\ipykernel_3884\\345104474.py:2: DtypeWarning: Columns (11) have mixed types. Specify dtype option on import or set low_memory=False.\n",
      "  df = pd.read_csv(\"TWO_CENTURIES_OF_UM_RACES.csv\")\n"
     ]
    }
   ],
   "source": [
    "# Load Data Set\n",
    "df = pd.read_csv(\"TWO_CENTURIES_OF_UM_RACES.csv\")"
   ]
  },
  {
   "cell_type": "code",
   "execution_count": 4,
   "id": "e474fc27-4c45-4c21-8a45-4a54640ab9ae",
   "metadata": {},
   "outputs": [
    {
     "data": {
      "text/plain": [
       "(7461195, 13)"
      ]
     },
     "execution_count": 4,
     "metadata": {},
     "output_type": "execute_result"
    }
   ],
   "source": [
    "df.shape"
   ]
  },
  {
   "cell_type": "code",
   "execution_count": 5,
   "id": "0b791cae-2938-4082-b933-d8a51877fce8",
   "metadata": {},
   "outputs": [
    {
     "data": {
      "text/plain": [
       "Index(['Year of event', 'Event dates', 'Event name', 'Event distance/length',\n",
       "       'Event number of finishers', 'Athlete performance', 'Athlete club',\n",
       "       'Athlete country', 'Athlete year of birth', 'Athlete gender',\n",
       "       'Athlete age category', 'Athlete average speed', 'Athlete ID'],\n",
       "      dtype='object')"
      ]
     },
     "execution_count": 5,
     "metadata": {},
     "output_type": "execute_result"
    }
   ],
   "source": [
    "df.columns"
   ]
  },
  {
   "cell_type": "code",
   "execution_count": 6,
   "id": "a7849c39-82a8-4e1f-9b5f-1bd69fda23be",
   "metadata": {},
   "outputs": [
    {
     "data": {
      "text/plain": [
       "Year of event                  int64\n",
       "Event dates                   object\n",
       "Event name                    object\n",
       "Event distance/length         object\n",
       "Event number of finishers      int64\n",
       "Athlete performance           object\n",
       "Athlete club                  object\n",
       "Athlete country               object\n",
       "Athlete year of birth        float64\n",
       "Athlete gender                object\n",
       "Athlete age category          object\n",
       "Athlete average speed         object\n",
       "Athlete ID                     int64\n",
       "dtype: object"
      ]
     },
     "execution_count": 6,
     "metadata": {},
     "output_type": "execute_result"
    }
   ],
   "source": [
    "df.dtypes"
   ]
  },
  {
   "cell_type": "code",
   "execution_count": 7,
   "id": "e70f2211-7ea3-4592-beb7-ad64cedf41b8",
   "metadata": {},
   "outputs": [
    {
     "data": {
      "text/plain": [
       "Year of event                    146\n",
       "Event dates                    14425\n",
       "Event name                     26907\n",
       "Event distance/length           2159\n",
       "Event number of finishers       1453\n",
       "Athlete performance           318200\n",
       "Athlete club                  552188\n",
       "Athlete country                  208\n",
       "Athlete year of birth            193\n",
       "Athlete gender                     3\n",
       "Athlete age category              37\n",
       "Athlete average speed          47244\n",
       "Athlete ID                   1641168\n",
       "dtype: int64"
      ]
     },
     "execution_count": 7,
     "metadata": {},
     "output_type": "execute_result"
    }
   ],
   "source": [
    "df.nunique()"
   ]
  },
  {
   "cell_type": "code",
   "execution_count": null,
   "id": "90416910-dc92-4f5d-821e-f641fdace9ba",
   "metadata": {},
   "outputs": [],
   "source": []
  }
 ],
 "metadata": {
  "kernelspec": {
   "display_name": "Python 3 (ipykernel)",
   "language": "python",
   "name": "python3"
  },
  "language_info": {
   "codemirror_mode": {
    "name": "ipython",
    "version": 3
   },
   "file_extension": ".py",
   "mimetype": "text/x-python",
   "name": "python",
   "nbconvert_exporter": "python",
   "pygments_lexer": "ipython3",
   "version": "3.12.5"
  }
 },
 "nbformat": 4,
 "nbformat_minor": 5
}
