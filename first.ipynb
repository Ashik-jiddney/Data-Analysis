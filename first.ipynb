{
 "cells": [
  {
   "cell_type": "code",
   "execution_count": 2,
   "id": "f7be0d9d-be54-4296-bedf-ded7d4356652",
   "metadata": {},
   "outputs": [],
   "source": [
    "import pandas as pd"
   ]
  },
  {
   "cell_type": "code",
   "execution_count": 10,
   "id": "a7b6ba8f-9b9a-4e34-b2b3-ecfddf2b7d71",
   "metadata": {},
   "outputs": [
    {
     "name": "stdout",
     "output_type": "stream",
     "text": [
      "{'key1': 'value1', 'key2': ['val2.1', 'val2.2']}\n"
     ]
    },
    {
     "data": {
      "text/html": [
       "<div>\n",
       "<style scoped>\n",
       "    .dataframe tbody tr th:only-of-type {\n",
       "        vertical-align: middle;\n",
       "    }\n",
       "\n",
       "    .dataframe tbody tr th {\n",
       "        vertical-align: top;\n",
       "    }\n",
       "\n",
       "    .dataframe thead th {\n",
       "        text-align: right;\n",
       "    }\n",
       "</style>\n",
       "<table border=\"1\" class=\"dataframe\">\n",
       "  <thead>\n",
       "    <tr style=\"text-align: right;\">\n",
       "      <th></th>\n",
       "      <th>key1</th>\n",
       "      <th>key2</th>\n",
       "    </tr>\n",
       "  </thead>\n",
       "  <tbody>\n",
       "    <tr>\n",
       "      <th>0</th>\n",
       "      <td>value1</td>\n",
       "      <td>val2.1</td>\n",
       "    </tr>\n",
       "    <tr>\n",
       "      <th>1</th>\n",
       "      <td>value1</td>\n",
       "      <td>val2.2</td>\n",
       "    </tr>\n",
       "  </tbody>\n",
       "</table>\n",
       "</div>"
      ],
      "text/plain": [
       "     key1    key2\n",
       "0  value1  val2.1\n",
       "1  value1  val2.2"
      ]
     },
     "execution_count": 10,
     "metadata": {},
     "output_type": "execute_result"
    }
   ],
   "source": [
    "mydataset = {\"key1\":\"value1\",\"key2\":[\"val2.1\",\"val2.2\"]}\n",
    "print(mydataset)\n",
    "df = pd.DataFrame(mydataset)\n",
    "df.head()"
   ]
  },
  {
   "cell_type": "code",
   "execution_count": 14,
   "id": "ea997c14-caec-42c9-b59a-88335926a1c3",
   "metadata": {},
   "outputs": [
    {
     "data": {
      "text/html": [
       "<div>\n",
       "<style scoped>\n",
       "    .dataframe tbody tr th:only-of-type {\n",
       "        vertical-align: middle;\n",
       "    }\n",
       "\n",
       "    .dataframe tbody tr th {\n",
       "        vertical-align: top;\n",
       "    }\n",
       "\n",
       "    .dataframe thead th {\n",
       "        text-align: right;\n",
       "    }\n",
       "</style>\n",
       "<table border=\"1\" class=\"dataframe\">\n",
       "  <thead>\n",
       "    <tr style=\"text-align: right;\">\n",
       "      <th></th>\n",
       "      <th>Lowest GPA</th>\n",
       "      <th>Seat</th>\n",
       "      <th>College Name</th>\n",
       "      <th>Result'23 (A+)</th>\n",
       "    </tr>\n",
       "  </thead>\n",
       "  <tbody>\n",
       "    <tr>\n",
       "      <th>0</th>\n",
       "      <td>4.50</td>\n",
       "      <td>337</td>\n",
       "      <td>TEJGAON COLLEGE</td>\n",
       "      <td>4.0</td>\n",
       "    </tr>\n",
       "    <tr>\n",
       "      <th>1</th>\n",
       "      <td>4.50</td>\n",
       "      <td>326</td>\n",
       "      <td>DHAKA COMMERCE COLLEGE</td>\n",
       "      <td>352.0</td>\n",
       "    </tr>\n",
       "    <tr>\n",
       "      <th>2</th>\n",
       "      <td>4.00</td>\n",
       "      <td>209</td>\n",
       "      <td>WILLES LITTLE FLOWER SCHOOL &amp; COLLEGE</td>\n",
       "      <td>NaN</td>\n",
       "    </tr>\n",
       "    <tr>\n",
       "      <th>3</th>\n",
       "      <td>5.00</td>\n",
       "      <td>131</td>\n",
       "      <td>MOHAMMADPUR GOVT. COLLEGE</td>\n",
       "      <td>53.0</td>\n",
       "    </tr>\n",
       "    <tr>\n",
       "      <th>4</th>\n",
       "      <td>4.50</td>\n",
       "      <td>111</td>\n",
       "      <td>BIAM MODEL SCHOOL &amp; COLLEGE</td>\n",
       "      <td>9.0</td>\n",
       "    </tr>\n",
       "    <tr>\n",
       "      <th>5</th>\n",
       "      <td>4.50</td>\n",
       "      <td>107</td>\n",
       "      <td>MOHAMMADPUR PREPARATORY SCHOOL &amp; COLLEGE</td>\n",
       "      <td>88.0</td>\n",
       "    </tr>\n",
       "    <tr>\n",
       "      <th>6</th>\n",
       "      <td>5.00</td>\n",
       "      <td>46</td>\n",
       "      <td>DHAKA CITY COLLEGE</td>\n",
       "      <td>894.0</td>\n",
       "    </tr>\n",
       "    <tr>\n",
       "      <th>7</th>\n",
       "      <td>4.00</td>\n",
       "      <td>37</td>\n",
       "      <td>CIVIL AVIATION SCHOOL &amp; COLLEGE</td>\n",
       "      <td>4.0</td>\n",
       "    </tr>\n",
       "    <tr>\n",
       "      <th>8</th>\n",
       "      <td>4.75</td>\n",
       "      <td>29</td>\n",
       "      <td>GOVT. BANGLA COLLEGE</td>\n",
       "      <td>66.0</td>\n",
       "    </tr>\n",
       "    <tr>\n",
       "      <th>9</th>\n",
       "      <td>5.00</td>\n",
       "      <td>21</td>\n",
       "      <td>BIR SHRESHTHA MUNSHI ABDUR ROUF PUBLIC COLLEGE</td>\n",
       "      <td>278.0</td>\n",
       "    </tr>\n",
       "    <tr>\n",
       "      <th>10</th>\n",
       "      <td>4.75</td>\n",
       "      <td>14</td>\n",
       "      <td>SHAHEED RAMIZ UDDIN CANTONMENT COLLEGE</td>\n",
       "      <td>272.0</td>\n",
       "    </tr>\n",
       "    <tr>\n",
       "      <th>11</th>\n",
       "      <td>5.00</td>\n",
       "      <td>12</td>\n",
       "      <td>GOVT. SCIENCE COLLEGE</td>\n",
       "      <td>731.0</td>\n",
       "    </tr>\n",
       "    <tr>\n",
       "      <th>12</th>\n",
       "      <td>4.00</td>\n",
       "      <td>10</td>\n",
       "      <td>SHER-E-BANGLA NAGAR GOVT. BOYS' HIGH SCHOOL</td>\n",
       "      <td>NaN</td>\n",
       "    </tr>\n",
       "    <tr>\n",
       "      <th>13</th>\n",
       "      <td>4.50</td>\n",
       "      <td>7</td>\n",
       "      <td>GOVERNMENT LABORATORY HIGH SCHOOL</td>\n",
       "      <td>NaN</td>\n",
       "    </tr>\n",
       "    <tr>\n",
       "      <th>14</th>\n",
       "      <td>5.00</td>\n",
       "      <td>4</td>\n",
       "      <td>GOVT. MOHAMMADPUR MODEL SCHOOL &amp; COLLEGE</td>\n",
       "      <td>NaN</td>\n",
       "    </tr>\n",
       "    <tr>\n",
       "      <th>15</th>\n",
       "      <td>5.00</td>\n",
       "      <td>2</td>\n",
       "      <td>ENGINEERING UNIVERSITY SCHOOL AND COLLEGE</td>\n",
       "      <td>NaN</td>\n",
       "    </tr>\n",
       "  </tbody>\n",
       "</table>\n",
       "</div>"
      ],
      "text/plain": [
       "    Lowest GPA  Seat                                    College Name  \\\n",
       "0         4.50   337                                 TEJGAON COLLEGE   \n",
       "1         4.50   326                          DHAKA COMMERCE COLLEGE   \n",
       "2         4.00   209           WILLES LITTLE FLOWER SCHOOL & COLLEGE   \n",
       "3         5.00   131                       MOHAMMADPUR GOVT. COLLEGE   \n",
       "4         4.50   111                     BIAM MODEL SCHOOL & COLLEGE   \n",
       "5         4.50   107        MOHAMMADPUR PREPARATORY SCHOOL & COLLEGE   \n",
       "6         5.00    46                             DHAKA CITY COLLEGE    \n",
       "7         4.00    37                 CIVIL AVIATION SCHOOL & COLLEGE   \n",
       "8         4.75    29                            GOVT. BANGLA COLLEGE   \n",
       "9         5.00    21  BIR SHRESHTHA MUNSHI ABDUR ROUF PUBLIC COLLEGE   \n",
       "10        4.75    14          SHAHEED RAMIZ UDDIN CANTONMENT COLLEGE   \n",
       "11        5.00    12                           GOVT. SCIENCE COLLEGE   \n",
       "12        4.00    10     SHER-E-BANGLA NAGAR GOVT. BOYS' HIGH SCHOOL   \n",
       "13        4.50     7               GOVERNMENT LABORATORY HIGH SCHOOL   \n",
       "14        5.00     4        GOVT. MOHAMMADPUR MODEL SCHOOL & COLLEGE   \n",
       "15        5.00     2       ENGINEERING UNIVERSITY SCHOOL AND COLLEGE   \n",
       "\n",
       "    Result'23 (A+)  \n",
       "0              4.0  \n",
       "1            352.0  \n",
       "2              NaN  \n",
       "3             53.0  \n",
       "4              9.0  \n",
       "5             88.0  \n",
       "6            894.0  \n",
       "7              4.0  \n",
       "8             66.0  \n",
       "9            278.0  \n",
       "10           272.0  \n",
       "11           731.0  \n",
       "12             NaN  \n",
       "13             NaN  \n",
       "14             NaN  \n",
       "15             NaN  "
      ]
     },
     "execution_count": 14,
     "metadata": {},
     "output_type": "execute_result"
    }
   ],
   "source": [
    "#C:\\Users\\BT\\Desktop\\Book1.xlsx\n",
    "dfx = pd.read_excel(\"C:\\\\Users\\\\BT\\\\Desktop\\\\Book1.xlsx\")\n",
    "dfx"
   ]
  },
  {
   "cell_type": "code",
   "execution_count": 3,
   "id": "4d38bb13-f7e3-44c0-a8a2-c1df3bdd4cb1",
   "metadata": {},
   "outputs": [
    {
     "data": {
      "text/plain": [
       "2"
      ]
     },
     "execution_count": 3,
     "metadata": {},
     "output_type": "execute_result"
    }
   ],
   "source": [
    "def add(x):\n",
    "    return(x+x)\n",
    "\n",
    "add(1)"
   ]
  },
  {
   "cell_type": "code",
   "execution_count": 7,
   "id": "5378323c-461e-4f49-841f-0e871a546be5",
   "metadata": {},
   "outputs": [],
   "source": [
    "import numpy as np"
   ]
  },
  {
   "cell_type": "code",
   "execution_count": 9,
   "id": "d39198af-4cf8-4dd8-8851-67b7fe481c91",
   "metadata": {},
   "outputs": [
    {
     "data": {
      "text/plain": [
       "array([11, 11, 11, 11, 11])"
      ]
     },
     "execution_count": 9,
     "metadata": {},
     "output_type": "execute_result"
    }
   ],
   "source": [
    "a=np.array([1,1,1,1,1]) \n",
    "a+10"
   ]
  },
  {
   "cell_type": "code",
   "execution_count": 10,
   "id": "31728ea0-58eb-4b08-b87d-b7c97bc016e7",
   "metadata": {},
   "outputs": [
    {
     "data": {
      "text/plain": [
       "{0, 1, 2, 3, 6}"
      ]
     },
     "execution_count": 10,
     "metadata": {},
     "output_type": "execute_result"
    }
   ],
   "source": [
    "A = [2,3,6,1,0]\n",
    "a = set(A)\n",
    "a"
   ]
  },
  {
   "cell_type": "code",
   "execution_count": 11,
   "id": "103e38e8-70c8-475a-acad-c14b3d30d617",
   "metadata": {},
   "outputs": [
    {
     "data": {
      "text/plain": [
       "[2, 3, 6, 1, 0]"
      ]
     },
     "execution_count": 11,
     "metadata": {},
     "output_type": "execute_result"
    }
   ],
   "source": [
    "A"
   ]
  },
  {
   "cell_type": "code",
   "execution_count": null,
   "id": "2f629174-6141-429b-9d2a-f73bfa1a7428",
   "metadata": {},
   "outputs": [],
   "source": []
  }
 ],
 "metadata": {
  "kernelspec": {
   "display_name": "Python 3 (ipykernel)",
   "language": "python",
   "name": "python3"
  },
  "language_info": {
   "codemirror_mode": {
    "name": "ipython",
    "version": 3
   },
   "file_extension": ".py",
   "mimetype": "text/x-python",
   "name": "python",
   "nbconvert_exporter": "python",
   "pygments_lexer": "ipython3",
   "version": "3.12.5"
  }
 },
 "nbformat": 4,
 "nbformat_minor": 5
}
