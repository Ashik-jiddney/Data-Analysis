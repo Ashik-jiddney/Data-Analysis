{
 "cells": [
  {
   "cell_type": "code",
   "execution_count": 2,
   "id": "fa100f3d-19ad-4793-9abf-f6793febd8be",
   "metadata": {},
   "outputs": [],
   "source": [
    "## import necessary library\n",
    "import pandas as pd\n",
    "import numpy as np\n",
    "import seaborn as sns"
   ]
  },
  {
   "cell_type": "code",
   "execution_count": 64,
   "id": "df4eff87-180e-4a2a-baf3-2111c2ad6093",
   "metadata": {},
   "outputs": [],
   "source": [
    "import matplotlib.pyplot as plt"
   ]
  },
  {
   "cell_type": "code",
   "execution_count": 3,
   "id": "f7916f47-c25d-4785-8ff6-c067da5d70cf",
   "metadata": {},
   "outputs": [
    {
     "data": {
      "text/html": [
       "<div>\n",
       "<style scoped>\n",
       "    .dataframe tbody tr th:only-of-type {\n",
       "        vertical-align: middle;\n",
       "    }\n",
       "\n",
       "    .dataframe tbody tr th {\n",
       "        vertical-align: top;\n",
       "    }\n",
       "\n",
       "    .dataframe thead th {\n",
       "        text-align: right;\n",
       "    }\n",
       "</style>\n",
       "<table border=\"1\" class=\"dataframe\">\n",
       "  <thead>\n",
       "    <tr style=\"text-align: right;\">\n",
       "      <th></th>\n",
       "      <th>title</th>\n",
       "      <th>dept</th>\n",
       "      <th>name</th>\n",
       "      <th>date</th>\n",
       "      <th>age</th>\n",
       "      <th>gender</th>\n",
       "      <th>name.1</th>\n",
       "      <th>price</th>\n",
       "    </tr>\n",
       "  </thead>\n",
       "  <tbody>\n",
       "    <tr>\n",
       "      <th>0</th>\n",
       "      <td>00030403</td>\n",
       "      <td>Radiology</td>\n",
       "      <td>NaN</td>\n",
       "      <td>2024-02-28 13:09:50</td>\n",
       "      <td>NaN</td>\n",
       "      <td>NaN</td>\n",
       "      <td>MRA of Brain and Neck Vessels</td>\n",
       "      <td>11200</td>\n",
       "    </tr>\n",
       "    <tr>\n",
       "      <th>1</th>\n",
       "      <td>00028459</td>\n",
       "      <td>Radiology</td>\n",
       "      <td>NaN</td>\n",
       "      <td>2024-02-28 13:32:32</td>\n",
       "      <td>NaN</td>\n",
       "      <td>NaN</td>\n",
       "      <td>X-ray Chest AP View (100%)</td>\n",
       "      <td>400</td>\n",
       "    </tr>\n",
       "  </tbody>\n",
       "</table>\n",
       "</div>"
      ],
      "text/plain": [
       "      title       dept name                 date  age gender  \\\n",
       "0  00030403  Radiology  NaN  2024-02-28 13:09:50  NaN    NaN   \n",
       "1  00028459  Radiology  NaN  2024-02-28 13:32:32  NaN    NaN   \n",
       "\n",
       "                          name.1  price  \n",
       "0  MRA of Brain and Neck Vessels  11200  \n",
       "1     X-ray Chest AP View (100%)    400  "
      ]
     },
     "execution_count": 3,
     "metadata": {},
     "output_type": "execute_result"
    }
   ],
   "source": [
    "# read the data file\n",
    "df = pd.read_csv(\"ipd-data.csv\")\n",
    "df.head(2)"
   ]
  },
  {
   "cell_type": "code",
   "execution_count": 4,
   "id": "81580855-79d5-4763-bd00-83c39d6a4235",
   "metadata": {},
   "outputs": [],
   "source": [
    "# Rename the header of the file\n",
    "df.rename(columns={'title':'patid'}, inplace=True)"
   ]
  },
  {
   "cell_type": "code",
   "execution_count": 5,
   "id": "0d76d99e-b5ae-4b0c-b80d-f64fb9b17991",
   "metadata": {},
   "outputs": [
    {
     "data": {
      "text/plain": [
       "Index(['patid', 'dept', 'name', 'date', 'age', 'gender', 'name.1', 'price'], dtype='object')"
      ]
     },
     "execution_count": 5,
     "metadata": {},
     "output_type": "execute_result"
    }
   ],
   "source": [
    "# Show the columns name\n",
    "df.columns"
   ]
  },
  {
   "cell_type": "code",
   "execution_count": 6,
   "id": "5222c564-f00e-4bb8-aca3-6b40d69cdecf",
   "metadata": {},
   "outputs": [],
   "source": [
    "# Changes the columns name\n",
    "df.rename(columns={'name':'patname', 'name.1':'testname', 'price':'testprice'}, inplace=True)"
   ]
  },
  {
   "cell_type": "code",
   "execution_count": 7,
   "id": "002e14ff-6ff3-414b-b58d-8f87217cb94c",
   "metadata": {},
   "outputs": [
    {
     "data": {
      "text/plain": [
       "Index(['patid', 'dept', 'patname', 'date', 'age', 'gender', 'testname',\n",
       "       'testprice'],\n",
       "      dtype='object')"
      ]
     },
     "execution_count": 7,
     "metadata": {},
     "output_type": "execute_result"
    }
   ],
   "source": [
    "# Shows all the column that changes the name correctly\n",
    "df.columns"
   ]
  },
  {
   "cell_type": "code",
   "execution_count": 8,
   "id": "96bb6cbf-f903-4e42-b36d-0c76f4bca59b",
   "metadata": {},
   "outputs": [
    {
     "name": "stdout",
     "output_type": "stream",
     "text": [
      "<class 'pandas.core.frame.DataFrame'>\n",
      "RangeIndex: 2038 entries, 0 to 2037\n",
      "Data columns (total 8 columns):\n",
      " #   Column     Non-Null Count  Dtype \n",
      "---  ------     --------------  ----- \n",
      " 0   patid      2038 non-null   object\n",
      " 1   dept       2038 non-null   object\n",
      " 2   patname    2035 non-null   object\n",
      " 3   date       2038 non-null   object\n",
      " 4   age        2032 non-null   object\n",
      " 5   gender     2031 non-null   object\n",
      " 6   testname   2038 non-null   object\n",
      " 7   testprice  2038 non-null   int64 \n",
      "dtypes: int64(1), object(7)\n",
      "memory usage: 127.5+ KB\n"
     ]
    }
   ],
   "source": [
    "# shows the data type info about columns\n",
    "df.info()"
   ]
  },
  {
   "cell_type": "code",
   "execution_count": 9,
   "id": "eceba5ad-cf61-4f4b-ae59-3fd4be637b62",
   "metadata": {},
   "outputs": [
    {
     "data": {
      "text/plain": [
       "array([nan, 'F', 'M', 'Female', 'Male', 'F-(C-618/B)', 'M-714/4', 'F-713',\n",
       "       'c-617/b', 'c-617/B', 'M-CCU-08', 'M-C-621', 'M-CCU-18', 'f',\n",
       "       'M-CCU-273', 'F-C-620', 'M-W-709/2', 'M-Cabin-614', 'M-C/714/05',\n",
       "       'C-610', 'CCU-12', 'M-CCU-09', 'C-622', 'C-709', 'F (C-613)',\n",
       "       'F-c-619', 'M-KT_01', '709/01', 'CCU-11', 'M-C-608', 'W-709/8',\n",
       "       '618-3', 'm', 'female'], dtype=object)"
      ]
     },
     "execution_count": 9,
     "metadata": {},
     "output_type": "execute_result"
    }
   ],
   "source": [
    "# find out how many type of gender format\n",
    "df['gender'].unique()"
   ]
  },
  {
   "cell_type": "code",
   "execution_count": 10,
   "id": "45bf4fdb-a641-4d03-ab37-dafd0c39812e",
   "metadata": {
    "scrolled": true
   },
   "outputs": [
    {
     "data": {
      "text/plain": [
       "232"
      ]
     },
     "execution_count": 10,
     "metadata": {},
     "output_type": "execute_result"
    }
   ],
   "source": [
    "# how many type of age format\n",
    "df.age.nunique()"
   ]
  },
  {
   "cell_type": "code",
   "execution_count": 11,
   "id": "8c77b28b-9beb-49c0-8f87-88ec86d29258",
   "metadata": {},
   "outputs": [
    {
     "data": {
      "text/plain": [
       "np.int64(0)"
      ]
     },
     "execution_count": 11,
     "metadata": {},
     "output_type": "execute_result"
    }
   ],
   "source": [
    "# Is there any null value in patient id\n",
    "df.patid.isnull().sum()"
   ]
  },
  {
   "cell_type": "code",
   "execution_count": 12,
   "id": "3dbdef3d-580d-4ba6-bb16-01ededae3be3",
   "metadata": {},
   "outputs": [
    {
     "data": {
      "text/plain": [
       "gender\n",
       "M    1040\n",
       "F     981\n",
       "N       7\n",
       "C       7\n",
       "7       1\n",
       "W       1\n",
       "6       1\n",
       "Name: count, dtype: int64"
      ]
     },
     "execution_count": 12,
     "metadata": {},
     "output_type": "execute_result"
    }
   ],
   "source": [
    "# df1['f'] = df1.D.astype(str).str[:2].astype(int)\n",
    "# Keep the first Letter of the gender\n",
    "df['gender'] = df['gender'].astype(str).str[:1]\n",
    "df['gender']=df['gender'].str.upper()\n",
    "df.gender.value_counts()"
   ]
  },
  {
   "cell_type": "code",
   "execution_count": 14,
   "id": "adc6a3be-f754-4f3f-bdf5-cad58caf1021",
   "metadata": {},
   "outputs": [
    {
     "data": {
      "text/plain": [
       "patid        0\n",
       "dept         0\n",
       "patname      3\n",
       "date         0\n",
       "age          6\n",
       "gender       0\n",
       "testname     0\n",
       "testprice    0\n",
       "dtype: int64"
      ]
     },
     "execution_count": 14,
     "metadata": {},
     "output_type": "execute_result"
    }
   ],
   "source": [
    "df.isnull().sum()"
   ]
  },
  {
   "cell_type": "code",
   "execution_count": 15,
   "id": "d2d81201-436d-4f27-b50a-b857d848ac7d",
   "metadata": {},
   "outputs": [],
   "source": [
    "df.dropna(inplace=True)"
   ]
  },
  {
   "cell_type": "code",
   "execution_count": 16,
   "id": "1994c024-5593-411f-9500-bc87ba5c5fe1",
   "metadata": {},
   "outputs": [
    {
     "data": {
      "text/plain": [
       "patid        0\n",
       "dept         0\n",
       "patname      0\n",
       "date         0\n",
       "age          0\n",
       "gender       0\n",
       "testname     0\n",
       "testprice    0\n",
       "dtype: int64"
      ]
     },
     "execution_count": 16,
     "metadata": {},
     "output_type": "execute_result"
    }
   ],
   "source": [
    "df.isna().sum()"
   ]
  },
  {
   "cell_type": "code",
   "execution_count": 17,
   "id": "fc447eec-8f47-4909-b3ea-d861ba1f2454",
   "metadata": {},
   "outputs": [
    {
     "data": {
      "text/plain": [
       "(2032, 8)"
      ]
     },
     "execution_count": 17,
     "metadata": {},
     "output_type": "execute_result"
    }
   ],
   "source": [
    "df.shape"
   ]
  },
  {
   "cell_type": "code",
   "execution_count": 18,
   "id": "179adf7c-2dbc-4033-baef-c085a56f058c",
   "metadata": {},
   "outputs": [
    {
     "name": "stdout",
     "output_type": "stream",
     "text": [
      "         patid        dept        patname                 date     age gender  \\\n",
      "2        30617   Radiology   Rokeya Begum  2024-02-29 09:58:01     71y      F   \n",
      "3        30633  Laboratory      Mohiuddin  2024-02-29 11:16:57  38 yrs      M   \n",
      "4        30633  Laboratory      Mohiuddin  2024-02-29 11:16:57  38 yrs      M   \n",
      "5        30633  Laboratory      Mohiuddin  2024-02-29 11:16:57  38 yrs      M   \n",
      "6        30633  Laboratory      Mohiuddin  2024-02-29 11:16:57  38 yrs      M   \n",
      "...        ...         ...            ...                  ...     ...    ...   \n",
      "2033  00047959  Laboratory   Kulsum Begum  2024-08-18 11:32:04   70yrs      F   \n",
      "2034  00047959  Laboratory   Kulsum Begum  2024-08-18 11:32:04   70yrs      F   \n",
      "2035  00047959  Laboratory   Kulsum Begum  2024-08-18 11:32:04   70yrs      F   \n",
      "2036  00047959  Laboratory   Kulsum Begum  2024-08-18 11:32:04   70yrs      F   \n",
      "2037     47959   Radiology  Kulsum Begum   2024-08-18 11:43:05      70      F   \n",
      "\n",
      "                              testname  testprice  \n",
      "2     X-ray Chest AP Supine (Portable)        700  \n",
      "3                              Albumin        160  \n",
      "4                              Calcium        160  \n",
      "5                         Electrolytes        490  \n",
      "6                       Inorganic Phos        160  \n",
      "...                                ...        ...  \n",
      "2033                               CBC        400  \n",
      "2034                      Electrolytes        490  \n",
      "2035                     S. Creatinine        110  \n",
      "2036      Urine R/E with full chemical        350  \n",
      "2037  X-ray Chest AP Supine (Portable)        700  \n",
      "\n",
      "[2022 rows x 8 columns]\n"
     ]
    }
   ],
   "source": [
    "# drop the row that doesn't have M or F\n",
    "a = ['C', '7', 'W', '6']\n",
    "df = df[~df['gender'].isin(a)]\n",
    "print(df)"
   ]
  },
  {
   "cell_type": "code",
   "execution_count": 19,
   "id": "c0e033a9-33f8-4e32-a593-4a7fc0348015",
   "metadata": {},
   "outputs": [
    {
     "name": "stderr",
     "output_type": "stream",
     "text": [
      "C:\\Users\\BT\\AppData\\Local\\Temp\\ipykernel_4652\\1436486853.py:1: SettingWithCopyWarning: \n",
      "A value is trying to be set on a copy of a slice from a DataFrame.\n",
      "Try using .loc[row_indexer,col_indexer] = value instead\n",
      "\n",
      "See the caveats in the documentation: https://pandas.pydata.org/pandas-docs/stable/user_guide/indexing.html#returning-a-view-versus-a-copy\n",
      "  df['age'] = df['age'].astype(str).str[:2]\n"
     ]
    }
   ],
   "source": [
    "df['age'] = df['age'].astype(str).str[:2]"
   ]
  },
  {
   "cell_type": "code",
   "execution_count": 20,
   "id": "536cb655-9c83-414c-80e2-13ae1691ebea",
   "metadata": {},
   "outputs": [
    {
     "data": {
      "text/html": [
       "<div>\n",
       "<style scoped>\n",
       "    .dataframe tbody tr th:only-of-type {\n",
       "        vertical-align: middle;\n",
       "    }\n",
       "\n",
       "    .dataframe tbody tr th {\n",
       "        vertical-align: top;\n",
       "    }\n",
       "\n",
       "    .dataframe thead th {\n",
       "        text-align: right;\n",
       "    }\n",
       "</style>\n",
       "<table border=\"1\" class=\"dataframe\">\n",
       "  <thead>\n",
       "    <tr style=\"text-align: right;\">\n",
       "      <th></th>\n",
       "      <th>patid</th>\n",
       "      <th>dept</th>\n",
       "      <th>patname</th>\n",
       "      <th>date</th>\n",
       "      <th>age</th>\n",
       "      <th>gender</th>\n",
       "      <th>testname</th>\n",
       "      <th>testprice</th>\n",
       "    </tr>\n",
       "  </thead>\n",
       "  <tbody>\n",
       "    <tr>\n",
       "      <th>2</th>\n",
       "      <td>30617</td>\n",
       "      <td>Radiology</td>\n",
       "      <td>Rokeya Begum</td>\n",
       "      <td>2024-02-29 09:58:01</td>\n",
       "      <td>71</td>\n",
       "      <td>F</td>\n",
       "      <td>X-ray Chest AP Supine (Portable)</td>\n",
       "      <td>700</td>\n",
       "    </tr>\n",
       "    <tr>\n",
       "      <th>3</th>\n",
       "      <td>30633</td>\n",
       "      <td>Laboratory</td>\n",
       "      <td>Mohiuddin</td>\n",
       "      <td>2024-02-29 11:16:57</td>\n",
       "      <td>38</td>\n",
       "      <td>M</td>\n",
       "      <td>Albumin</td>\n",
       "      <td>160</td>\n",
       "    </tr>\n",
       "  </tbody>\n",
       "</table>\n",
       "</div>"
      ],
      "text/plain": [
       "   patid        dept       patname                 date age gender  \\\n",
       "2  30617   Radiology  Rokeya Begum  2024-02-29 09:58:01  71      F   \n",
       "3  30633  Laboratory     Mohiuddin  2024-02-29 11:16:57  38      M   \n",
       "\n",
       "                           testname  testprice  \n",
       "2  X-ray Chest AP Supine (Portable)        700  \n",
       "3                           Albumin        160  "
      ]
     },
     "execution_count": 20,
     "metadata": {},
     "output_type": "execute_result"
    }
   ],
   "source": [
    "df.head(2)"
   ]
  },
  {
   "cell_type": "code",
   "execution_count": 21,
   "id": "3dc521af-c336-432c-920b-04a221460440",
   "metadata": {},
   "outputs": [
    {
     "name": "stderr",
     "output_type": "stream",
     "text": [
      "C:\\Users\\BT\\AppData\\Local\\Temp\\ipykernel_4652\\2008652266.py:1: FutureWarning: A value is trying to be set on a copy of a DataFrame or Series through chained assignment using an inplace method.\n",
      "The behavior will change in pandas 3.0. This inplace method will never work because the intermediate object on which we are setting values always behaves as a copy.\n",
      "\n",
      "For example, when doing 'df[col].method(value, inplace=True)', try using 'df.method({col: value}, inplace=True)' or df[col] = df[col].method(value) instead, to perform the operation inplace on the original object.\n",
      "\n",
      "\n",
      "  df['gender'].replace({'F': 'Female', 'M':'Male'}, inplace=True)\n",
      "C:\\Users\\BT\\AppData\\Local\\Temp\\ipykernel_4652\\2008652266.py:1: SettingWithCopyWarning: \n",
      "A value is trying to be set on a copy of a slice from a DataFrame\n",
      "\n",
      "See the caveats in the documentation: https://pandas.pydata.org/pandas-docs/stable/user_guide/indexing.html#returning-a-view-versus-a-copy\n",
      "  df['gender'].replace({'F': 'Female', 'M':'Male'}, inplace=True)\n"
     ]
    }
   ],
   "source": [
    "df['gender'].replace({'F': 'Female', 'M':'Male'}, inplace=True)"
   ]
  },
  {
   "cell_type": "code",
   "execution_count": 22,
   "id": "42ce6405-ef43-471c-80fa-99ee0b569f56",
   "metadata": {},
   "outputs": [
    {
     "data": {
      "text/html": [
       "<div>\n",
       "<style scoped>\n",
       "    .dataframe tbody tr th:only-of-type {\n",
       "        vertical-align: middle;\n",
       "    }\n",
       "\n",
       "    .dataframe tbody tr th {\n",
       "        vertical-align: top;\n",
       "    }\n",
       "\n",
       "    .dataframe thead th {\n",
       "        text-align: right;\n",
       "    }\n",
       "</style>\n",
       "<table border=\"1\" class=\"dataframe\">\n",
       "  <thead>\n",
       "    <tr style=\"text-align: right;\">\n",
       "      <th></th>\n",
       "      <th>patid</th>\n",
       "      <th>dept</th>\n",
       "      <th>patname</th>\n",
       "      <th>date</th>\n",
       "      <th>age</th>\n",
       "      <th>gender</th>\n",
       "      <th>testname</th>\n",
       "      <th>testprice</th>\n",
       "    </tr>\n",
       "  </thead>\n",
       "  <tbody>\n",
       "    <tr>\n",
       "      <th>2</th>\n",
       "      <td>30617</td>\n",
       "      <td>Radiology</td>\n",
       "      <td>Rokeya Begum</td>\n",
       "      <td>2024-02-29 09:58:01</td>\n",
       "      <td>71</td>\n",
       "      <td>Female</td>\n",
       "      <td>X-ray Chest AP Supine (Portable)</td>\n",
       "      <td>700</td>\n",
       "    </tr>\n",
       "    <tr>\n",
       "      <th>3</th>\n",
       "      <td>30633</td>\n",
       "      <td>Laboratory</td>\n",
       "      <td>Mohiuddin</td>\n",
       "      <td>2024-02-29 11:16:57</td>\n",
       "      <td>38</td>\n",
       "      <td>Male</td>\n",
       "      <td>Albumin</td>\n",
       "      <td>160</td>\n",
       "    </tr>\n",
       "  </tbody>\n",
       "</table>\n",
       "</div>"
      ],
      "text/plain": [
       "   patid        dept       patname                 date age  gender  \\\n",
       "2  30617   Radiology  Rokeya Begum  2024-02-29 09:58:01  71  Female   \n",
       "3  30633  Laboratory     Mohiuddin  2024-02-29 11:16:57  38    Male   \n",
       "\n",
       "                           testname  testprice  \n",
       "2  X-ray Chest AP Supine (Portable)        700  \n",
       "3                           Albumin        160  "
      ]
     },
     "execution_count": 22,
     "metadata": {},
     "output_type": "execute_result"
    }
   ],
   "source": [
    "df.head(2)"
   ]
  },
  {
   "cell_type": "code",
   "execution_count": 23,
   "id": "b5678a5b-dbe1-4c6b-aaa3-2846d85e15b0",
   "metadata": {},
   "outputs": [
    {
     "name": "stderr",
     "output_type": "stream",
     "text": [
      "C:\\Users\\BT\\AppData\\Local\\Temp\\ipykernel_4652\\547882536.py:1: SettingWithCopyWarning: \n",
      "A value is trying to be set on a copy of a slice from a DataFrame.\n",
      "Try using .loc[row_indexer,col_indexer] = value instead\n",
      "\n",
      "See the caveats in the documentation: https://pandas.pydata.org/pandas-docs/stable/user_guide/indexing.html#returning-a-view-versus-a-copy\n",
      "  df['date'] = pd.to_datetime(df['date']).dt.date.astype('datetime64[ns]')\n",
      "C:\\Users\\BT\\AppData\\Local\\Temp\\ipykernel_4652\\547882536.py:2: SettingWithCopyWarning: \n",
      "A value is trying to be set on a copy of a slice from a DataFrame.\n",
      "Try using .loc[row_indexer,col_indexer] = value instead\n",
      "\n",
      "See the caveats in the documentation: https://pandas.pydata.org/pandas-docs/stable/user_guide/indexing.html#returning-a-view-versus-a-copy\n",
      "  df['patid'] = df['patid'].astype(int)\n"
     ]
    },
    {
     "data": {
      "text/plain": [
       "patid                 int64\n",
       "dept                 object\n",
       "patname              object\n",
       "date         datetime64[ns]\n",
       "age                  object\n",
       "gender               object\n",
       "testname             object\n",
       "testprice             int64\n",
       "dtype: object"
      ]
     },
     "execution_count": 23,
     "metadata": {},
     "output_type": "execute_result"
    }
   ],
   "source": [
    "df['date'] = pd.to_datetime(df['date']).dt.date.astype('datetime64[ns]')\n",
    "df['patid'] = df['patid'].astype(int)\n",
    "df.dtypes"
   ]
  },
  {
   "cell_type": "code",
   "execution_count": 24,
   "id": "3e381818-7b34-4e30-a9ba-e04f43f3162d",
   "metadata": {},
   "outputs": [],
   "source": [
    "df1 = df[['patid', 'dept', 'date', 'age', 'gender', 'testname', 'testprice']]"
   ]
  },
  {
   "cell_type": "code",
   "execution_count": 25,
   "id": "8a153f20-1caf-4649-9185-46243feaa873",
   "metadata": {},
   "outputs": [
    {
     "data": {
      "text/plain": [
       "(2022, 8)"
      ]
     },
     "execution_count": 25,
     "metadata": {},
     "output_type": "execute_result"
    }
   ],
   "source": [
    "df1 = df1.reset_index()\n",
    "df1.shape"
   ]
  },
  {
   "cell_type": "code",
   "execution_count": 26,
   "id": "fc57e2b4-19b8-4089-9a46-546414356a6d",
   "metadata": {},
   "outputs": [
    {
     "data": {
      "text/plain": [
       "Index(['index', 'patid', 'dept', 'date', 'age', 'gender', 'testname',\n",
       "       'testprice'],\n",
       "      dtype='object')"
      ]
     },
     "execution_count": 26,
     "metadata": {},
     "output_type": "execute_result"
    }
   ],
   "source": [
    "df1.columns"
   ]
  },
  {
   "cell_type": "code",
   "execution_count": 27,
   "id": "471c4b39-8870-422c-ae13-30a2c8532e89",
   "metadata": {},
   "outputs": [
    {
     "data": {
      "text/plain": [
       "array(['71', '38', '70', '76', '32', '36', '62', '63', '35', '28', '81',\n",
       "       '54', '64', '66', '83', '49', '48', '58', '65', '25', '24', '15',\n",
       "       '17', '29', '57', '72', '75', '8', '67', '37', '55', '42', '23',\n",
       "       '34', '60', '59', '20', '41', '27', '61', '13', '30', '50', '45',\n",
       "       '77', '80', '52', '40', '44', '22', '1', '56', '33', '47', '92',\n",
       "       '43', '31', '16', '68', '85', '19', '51', '53', '26', '12', '02',\n",
       "       '46', '69', '9', '73', '18', '95', '39', '74'], dtype=object)"
      ]
     },
     "execution_count": 27,
     "metadata": {},
     "output_type": "execute_result"
    }
   ],
   "source": [
    "df1['age'] = df1['age'].replace({'9y':'9'})\n",
    "df1['age'].unique()"
   ]
  },
  {
   "cell_type": "code",
   "execution_count": 28,
   "id": "eb76d1bb-b089-444c-afc2-2a4efcf15f06",
   "metadata": {},
   "outputs": [
    {
     "name": "stdout",
     "output_type": "stream",
     "text": [
      "95   1\n"
     ]
    }
   ],
   "source": [
    "df1['age'] = df1['age'].astype(int)\n",
    "print(df1['age'].max(), \" \", df1['age'].min())"
   ]
  },
  {
   "cell_type": "code",
   "execution_count": 29,
   "id": "97b9355c-6daa-4f98-ba65-c71b88c31066",
   "metadata": {},
   "outputs": [
    {
     "data": {
      "text/html": [
       "<div>\n",
       "<style scoped>\n",
       "    .dataframe tbody tr th:only-of-type {\n",
       "        vertical-align: middle;\n",
       "    }\n",
       "\n",
       "    .dataframe tbody tr th {\n",
       "        vertical-align: top;\n",
       "    }\n",
       "\n",
       "    .dataframe thead th {\n",
       "        text-align: right;\n",
       "    }\n",
       "</style>\n",
       "<table border=\"1\" class=\"dataframe\">\n",
       "  <thead>\n",
       "    <tr style=\"text-align: right;\">\n",
       "      <th></th>\n",
       "      <th>index</th>\n",
       "      <th>patid</th>\n",
       "      <th>date</th>\n",
       "      <th>age</th>\n",
       "      <th>testprice</th>\n",
       "    </tr>\n",
       "  </thead>\n",
       "  <tbody>\n",
       "    <tr>\n",
       "      <th>count</th>\n",
       "      <td>2022.000000</td>\n",
       "      <td>2022.000000</td>\n",
       "      <td>2022</td>\n",
       "      <td>2022.000000</td>\n",
       "      <td>2022.000000</td>\n",
       "    </tr>\n",
       "    <tr>\n",
       "      <th>mean</th>\n",
       "      <td>1023.000495</td>\n",
       "      <td>38903.888229</td>\n",
       "      <td>2024-05-24 05:17:37.566765568</td>\n",
       "      <td>53.036597</td>\n",
       "      <td>792.606330</td>\n",
       "    </tr>\n",
       "    <tr>\n",
       "      <th>min</th>\n",
       "      <td>2.000000</td>\n",
       "      <td>457.000000</td>\n",
       "      <td>2024-02-29 00:00:00</td>\n",
       "      <td>1.000000</td>\n",
       "      <td>80.000000</td>\n",
       "    </tr>\n",
       "    <tr>\n",
       "      <th>25%</th>\n",
       "      <td>515.250000</td>\n",
       "      <td>33695.000000</td>\n",
       "      <td>2024-04-22 00:00:00</td>\n",
       "      <td>42.000000</td>\n",
       "      <td>160.000000</td>\n",
       "    </tr>\n",
       "    <tr>\n",
       "      <th>50%</th>\n",
       "      <td>1025.500000</td>\n",
       "      <td>38710.000000</td>\n",
       "      <td>2024-05-23 00:00:00</td>\n",
       "      <td>57.000000</td>\n",
       "      <td>420.000000</td>\n",
       "    </tr>\n",
       "    <tr>\n",
       "      <th>75%</th>\n",
       "      <td>1531.750000</td>\n",
       "      <td>45060.000000</td>\n",
       "      <td>2024-07-10 00:00:00</td>\n",
       "      <td>65.000000</td>\n",
       "      <td>650.000000</td>\n",
       "    </tr>\n",
       "    <tr>\n",
       "      <th>max</th>\n",
       "      <td>2037.000000</td>\n",
       "      <td>480638.000000</td>\n",
       "      <td>2024-08-18 00:00:00</td>\n",
       "      <td>95.000000</td>\n",
       "      <td>60000.000000</td>\n",
       "    </tr>\n",
       "    <tr>\n",
       "      <th>std</th>\n",
       "      <td>587.739938</td>\n",
       "      <td>18261.597797</td>\n",
       "      <td>NaN</td>\n",
       "      <td>16.472148</td>\n",
       "      <td>2063.879142</td>\n",
       "    </tr>\n",
       "  </tbody>\n",
       "</table>\n",
       "</div>"
      ],
      "text/plain": [
       "             index          patid                           date          age  \\\n",
       "count  2022.000000    2022.000000                           2022  2022.000000   \n",
       "mean   1023.000495   38903.888229  2024-05-24 05:17:37.566765568    53.036597   \n",
       "min       2.000000     457.000000            2024-02-29 00:00:00     1.000000   \n",
       "25%     515.250000   33695.000000            2024-04-22 00:00:00    42.000000   \n",
       "50%    1025.500000   38710.000000            2024-05-23 00:00:00    57.000000   \n",
       "75%    1531.750000   45060.000000            2024-07-10 00:00:00    65.000000   \n",
       "max    2037.000000  480638.000000            2024-08-18 00:00:00    95.000000   \n",
       "std     587.739938   18261.597797                            NaN    16.472148   \n",
       "\n",
       "          testprice  \n",
       "count   2022.000000  \n",
       "mean     792.606330  \n",
       "min       80.000000  \n",
       "25%      160.000000  \n",
       "50%      420.000000  \n",
       "75%      650.000000  \n",
       "max    60000.000000  \n",
       "std     2063.879142  "
      ]
     },
     "execution_count": 29,
     "metadata": {},
     "output_type": "execute_result"
    }
   ],
   "source": [
    "df1.describe()"
   ]
  },
  {
   "cell_type": "code",
   "execution_count": 35,
   "id": "ca6fe9da-ae5a-483a-a624-5e0caa9108a2",
   "metadata": {},
   "outputs": [
    {
     "data": {
      "text/html": [
       "<div>\n",
       "<style scoped>\n",
       "    .dataframe tbody tr th:only-of-type {\n",
       "        vertical-align: middle;\n",
       "    }\n",
       "\n",
       "    .dataframe tbody tr th {\n",
       "        vertical-align: top;\n",
       "    }\n",
       "\n",
       "    .dataframe thead th {\n",
       "        text-align: right;\n",
       "    }\n",
       "</style>\n",
       "<table border=\"1\" class=\"dataframe\">\n",
       "  <thead>\n",
       "    <tr style=\"text-align: right;\">\n",
       "      <th></th>\n",
       "      <th>index</th>\n",
       "      <th>patid</th>\n",
       "      <th>dept</th>\n",
       "      <th>date</th>\n",
       "      <th>age</th>\n",
       "      <th>gender</th>\n",
       "      <th>testname</th>\n",
       "      <th>testprice</th>\n",
       "      <th>date_weekday</th>\n",
       "    </tr>\n",
       "  </thead>\n",
       "  <tbody>\n",
       "    <tr>\n",
       "      <th>2021</th>\n",
       "      <td>2037</td>\n",
       "      <td>47959</td>\n",
       "      <td>Radiology</td>\n",
       "      <td>2024-08-18</td>\n",
       "      <td>70</td>\n",
       "      <td>Female</td>\n",
       "      <td>X-ray Chest AP Supine (Portable)</td>\n",
       "      <td>700</td>\n",
       "      <td>6</td>\n",
       "    </tr>\n",
       "  </tbody>\n",
       "</table>\n",
       "</div>"
      ],
      "text/plain": [
       "      index  patid       dept       date  age  gender  \\\n",
       "2021   2037  47959  Radiology 2024-08-18   70  Female   \n",
       "\n",
       "                              testname  testprice  date_weekday  \n",
       "2021  X-ray Chest AP Supine (Portable)        700             6  "
      ]
     },
     "execution_count": 35,
     "metadata": {},
     "output_type": "execute_result"
    }
   ],
   "source": [
    "# 5 is Saturday, 6 is Sunday \n",
    "df1['date_weekday'] = df1['date'].dt.dayofweek\n",
    "df1.tail(1)"
   ]
  },
  {
   "cell_type": "code",
   "execution_count": 39,
   "id": "cfc7197f-d31b-4a6b-85a6-28170e0a56d8",
   "metadata": {},
   "outputs": [],
   "source": [
    "# Group the tenure in bins of 12 months\n",
    "labels = [\"{} - {}\".format(i, i + 9) for i in range(1, 100, 10)]\n",
    "df1['agegroup'] = pd.cut(x=df1.age, bins=range(1, 110, 10), right=False, labels=labels)"
   ]
  },
  {
   "cell_type": "code",
   "execution_count": 40,
   "id": "4565c9c7-a1db-4d61-9734-c514c03757f4",
   "metadata": {},
   "outputs": [
    {
     "data": {
      "text/html": [
       "<div>\n",
       "<style scoped>\n",
       "    .dataframe tbody tr th:only-of-type {\n",
       "        vertical-align: middle;\n",
       "    }\n",
       "\n",
       "    .dataframe tbody tr th {\n",
       "        vertical-align: top;\n",
       "    }\n",
       "\n",
       "    .dataframe thead th {\n",
       "        text-align: right;\n",
       "    }\n",
       "</style>\n",
       "<table border=\"1\" class=\"dataframe\">\n",
       "  <thead>\n",
       "    <tr style=\"text-align: right;\">\n",
       "      <th></th>\n",
       "      <th>index</th>\n",
       "      <th>patid</th>\n",
       "      <th>dept</th>\n",
       "      <th>date</th>\n",
       "      <th>age</th>\n",
       "      <th>gender</th>\n",
       "      <th>testname</th>\n",
       "      <th>testprice</th>\n",
       "      <th>date_weekday</th>\n",
       "      <th>agegroup</th>\n",
       "    </tr>\n",
       "  </thead>\n",
       "  <tbody>\n",
       "    <tr>\n",
       "      <th>0</th>\n",
       "      <td>2</td>\n",
       "      <td>30617</td>\n",
       "      <td>Radiology</td>\n",
       "      <td>2024-02-29</td>\n",
       "      <td>71</td>\n",
       "      <td>Female</td>\n",
       "      <td>X-ray Chest AP Supine (Portable)</td>\n",
       "      <td>700</td>\n",
       "      <td>3</td>\n",
       "      <td>71 - 80</td>\n",
       "    </tr>\n",
       "    <tr>\n",
       "      <th>1</th>\n",
       "      <td>3</td>\n",
       "      <td>30633</td>\n",
       "      <td>Laboratory</td>\n",
       "      <td>2024-02-29</td>\n",
       "      <td>38</td>\n",
       "      <td>Male</td>\n",
       "      <td>Albumin</td>\n",
       "      <td>160</td>\n",
       "      <td>3</td>\n",
       "      <td>31 - 40</td>\n",
       "    </tr>\n",
       "    <tr>\n",
       "      <th>2</th>\n",
       "      <td>4</td>\n",
       "      <td>30633</td>\n",
       "      <td>Laboratory</td>\n",
       "      <td>2024-02-29</td>\n",
       "      <td>38</td>\n",
       "      <td>Male</td>\n",
       "      <td>Calcium</td>\n",
       "      <td>160</td>\n",
       "      <td>3</td>\n",
       "      <td>31 - 40</td>\n",
       "    </tr>\n",
       "    <tr>\n",
       "      <th>3</th>\n",
       "      <td>5</td>\n",
       "      <td>30633</td>\n",
       "      <td>Laboratory</td>\n",
       "      <td>2024-02-29</td>\n",
       "      <td>38</td>\n",
       "      <td>Male</td>\n",
       "      <td>Electrolytes</td>\n",
       "      <td>490</td>\n",
       "      <td>3</td>\n",
       "      <td>31 - 40</td>\n",
       "    </tr>\n",
       "    <tr>\n",
       "      <th>4</th>\n",
       "      <td>6</td>\n",
       "      <td>30633</td>\n",
       "      <td>Laboratory</td>\n",
       "      <td>2024-02-29</td>\n",
       "      <td>38</td>\n",
       "      <td>Male</td>\n",
       "      <td>Inorganic Phos</td>\n",
       "      <td>160</td>\n",
       "      <td>3</td>\n",
       "      <td>31 - 40</td>\n",
       "    </tr>\n",
       "  </tbody>\n",
       "</table>\n",
       "</div>"
      ],
      "text/plain": [
       "   index  patid        dept       date  age  gender  \\\n",
       "0      2  30617   Radiology 2024-02-29   71  Female   \n",
       "1      3  30633  Laboratory 2024-02-29   38    Male   \n",
       "2      4  30633  Laboratory 2024-02-29   38    Male   \n",
       "3      5  30633  Laboratory 2024-02-29   38    Male   \n",
       "4      6  30633  Laboratory 2024-02-29   38    Male   \n",
       "\n",
       "                           testname  testprice  date_weekday agegroup  \n",
       "0  X-ray Chest AP Supine (Portable)        700             3  71 - 80  \n",
       "1                           Albumin        160             3  31 - 40  \n",
       "2                           Calcium        160             3  31 - 40  \n",
       "3                      Electrolytes        490             3  31 - 40  \n",
       "4                    Inorganic Phos        160             3  31 - 40  "
      ]
     },
     "execution_count": 40,
     "metadata": {},
     "output_type": "execute_result"
    }
   ],
   "source": [
    "df1.head()"
   ]
  },
  {
   "cell_type": "code",
   "execution_count": 52,
   "id": "4c22cc01-ddc4-415a-9595-18b870aeb205",
   "metadata": {},
   "outputs": [
    {
     "data": {
      "text/plain": [
       "date\n",
       "2      9780\n",
       "3    238060\n",
       "4    189060\n",
       "5    296210\n",
       "6    194800\n",
       "7    496510\n",
       "8    178230\n",
       "Name: testprice, dtype: int64"
      ]
     },
     "execution_count": 52,
     "metadata": {},
     "output_type": "execute_result"
    }
   ],
   "source": [
    "#calculate sum of income grouped by month\n",
    "price_sum = df1.groupby(df1.date.dt.month)['testprice'].sum()\n",
    "price_sum"
   ]
  },
  {
   "cell_type": "code",
   "execution_count": 65,
   "id": "cbcc968d-cf79-40ce-9781-1a2f5bd572a6",
   "metadata": {},
   "outputs": [
    {
     "data": {
      "text/plain": [
       "Text(0.5, 1.0, 'Sum of test price vs Month')"
      ]
     },
     "execution_count": 65,
     "metadata": {},
     "output_type": "execute_result"
    },
    {
     "data": {
      "image/png": "[encoded data removed]",
      "text/plain": [
       "<Figure size 640x480 with 1 Axes>"
      ]
     },
     "metadata": {},
     "output_type": "display_data"
    }
   ],
   "source": [
    "a = df1.date.dt.month\n",
    "ax = sns.barplot(df1, x=a, y='testprice', estimator=\"sum\", errorbar=None)\n",
    "for i in range(0, len(ax.containers)):\n",
    "    ax.bar_label(ax.containers[i])\n",
    "plt.xlabel(\"Month\")\n",
    "plt.ylabel(\"Monthly Sum of test price\")\n",
    "plt.title(\"Sum of test price vs Month\") # You can comment this line out if you don't need title"
   ]
  },
  {
   "cell_type": "code",
   "execution_count": null,
   "id": "58322620-886c-44d4-849f-28ec711d2fe6",
   "metadata": {},
   "outputs": [],
   "source": []
  }
 ],
 "metadata": {
  "kernelspec": {
   "display_name": "Python 3 (ipykernel)",
   "language": "python",
   "name": "python3"
  },
  "language_info": {
   "codemirror_mode": {
    "name": "ipython",
    "version": 3
   },
   "file_extension": ".py",
   "mimetype": "text/x-python",
   "name": "python",
   "nbconvert_exporter": "python",
   "pygments_lexer": "ipython3",
   "version": "3.12.5"
  }
 },
 "nbformat": 4,
 "nbformat_minor": 5
}
